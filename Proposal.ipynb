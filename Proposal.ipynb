{
 "cells": [
  {
   "cell_type": "markdown",
   "id": "39ef54fe",
   "metadata": {},
   "source": [
    "# Analysis 1:"
   ]
  },
  {
   "cell_type": "markdown",
   "id": "80dccba2",
   "metadata": {},
   "source": [
    "Variables:\n",
    "\n",
    "CONNECTION_social_days_friends_p7d_grouped\n",
    "LONELY_dejong_emotional_social_loneliness_scale_emptiness\n",
    "\n",
    "Visualizations:\n",
    "\n",
    "Bar Chart for Emptiness Feelings Distribution\n",
    "Purpose: This chart will show the overall distribution of feelings of emptiness (binary variable) across the dataset, giving a sense of how prevalent feelings of emptiness are.\n",
    "\n",
    "Bar Chart for Socializing Frequency Groups\n",
    "Purpose: Visualize the distribution of socializing frequency across the two groups (4+ days per week vs. 3 or fewer days per week). This will help you see if the dataset has a balance between frequent and infrequent socializers.\n",
    "\n",
    "Mean Emptiness Feelings by Socializing Group (Bar Chart)\n",
    "Purpose: This chart shows the average level of emptiness (proportion of individuals who feel emptiness) within each socializing group, addressing the hypothesis directly. It allows for a visual comparison of whether people in each group experience emptiness at similar rates.\n",
    "\n",
    "Questions: Can socializing with friends reduce the feeling of emptiness?\n",
    "\n",
    "Perform:\n",
    "\n",
    "1. Convert Emptiness Feelings to a Binary Variable:\n",
    "\n",
    "For each person in the dataset:\n",
    "Assign a value of 1 if they feel emptiness (either “Yes” or “More or Less”).\n",
    "Assign a value of 0 if they do not feel emptiness (“No”).\n",
    "\n",
    "\n",
    "2. regroup the data:\n",
    "\n",
    "Group 1: People who socialize with friends 4 or more days per week.\n",
    "Group 2: People who socialize with friends 3 or fewer days per week.\n",
    "\n",
    "\n",
    "3. Calculate the Mean for Each Group:\n",
    "\n",
    "For each group, calculate the mean of the binary variable. This mean will represent the proportion of individuals in each group who feel emptiness.\n",
    "\n",
    "Set a Hypothesis test:\n",
    "\n",
    "Null Hypothesis (H0): The mean level of feelings of emptiness (proportion who feel emptiness) is the same between those who socialize 4+ days per week and those who socialize 3 days or fewer per week.\n",
    "\n",
    "Alternative Hypothesis (H1): The mean level of feelings of emptiness is different between the two groups.\n",
    "\n"
   ]
  },
  {
   "cell_type": "markdown",
   "id": "6cc5469f",
   "metadata": {},
   "source": [
    "Hypothesis:People who have 4+ social days with friends will less likely to feel emptiness.\n",
    "\n",
    "(a)Possible Results:\n",
    "    \n",
    "Reject that the mean level of feelings of emptiness (proportion who feel emptiness) is the same between those who socialize 4+ days per week and those who socialize 3 days or fewer per week.\n",
    "-or-\n",
    "Fail to reject that the mean level of feelings of emptiness (proportion who feel emptiness) is the same between those who socialize 4+ days per week and those who socialize 3 days or fewer per week.\n",
    "\n",
    "(b)The main target of this statistical test is to show whether there is a potential relationship between the frequency of people socliazing with friends and their mental feeling of 'emptiness'."
   ]
  },
  {
   "cell_type": "code",
   "execution_count": null,
   "id": "2d6e6697",
   "metadata": {},
   "outputs": [],
   "source": []
  },
  {
   "cell_type": "markdown",
   "id": "2d4098ec",
   "metadata": {},
   "source": [
    "# Analysis 2:"
   ]
  },
  {
   "cell_type": "markdown",
   "id": "cb0636b3",
   "metadata": {},
   "source": [
    "Variables:\n",
    "\n",
    "CONNECTION_activities_group_exercise_p3m\n",
    "LONELY_ucla_loneliness_scale_score_y_n\n",
    "\n",
    "Visualization:\n",
    "\n",
    "Bar Chart for Loneliness Distribution (Binary Variable)\n",
    "Purpose: This chart will show the overall distribution of loneliness responses (“Yes” or “No”) across the dataset. Understanding how many people feel lonely vs. not lonely is helpful to frame the analysis.\n",
    "\n",
    "Bar Chart for Group Exercise Participation Frequency\n",
    "Purpose: Visualize the distribution of group exercise frequency across the two groups (more than or equal to once a month vs. less than once a month). This will help you see if there’s a balanced distribution between frequent and infrequent participants in group exercise.\n",
    "\n",
    "\n",
    "Confidence Interval(in the end) Plot for Proportion of Not Feeling Lonely by Group Exercise Frequency\n",
    "Purpose: Displaying confidence intervals for the proportion of people who report not feeling lonely within each exercise group can provide statistical clarity. It allows you to see whether differences in loneliness are likely to be statistically meaningful.\n",
    "\n",
    "Question: Can group exercises make one feeling not lonely?\n",
    "\n",
    "how to perform:\n",
    "\n",
    "1. Group the data based on CONNECTION_activities_group_exercise_p3m as:\n",
    "Group 1: People who participate in group exercise at least once a month (categories: \"Daily or almost daily,\" \"A few times a week,\" \"Weekly,\" \"A few times a month,\" and \"Monthly\").\n",
    "Group 2: People who participate in group exercise less than once a month (categories: \"Less than monthly\" and \"Not in the past three months\").\n",
    "\n",
    "\n",
    "2. Encode LONELY_ucla_loneliness_scale_score_y_n as a binary variable:\n",
    "1 if the response is “No” (indicating the person does not feel lonely).\n",
    "0 if the response is “Yes” (indicating the person feels lonely).\n",
    "\n",
    "\n",
    "3. Calculate Proportion for Group 1:\n",
    "\n",
    "For individuals in Group 1 (those who engage in group exercise more than or equal to once a month), calculate the proportion who report “No” on the loneliness scale.\n",
    "\n",
    "\n",
    "4. Construct the Confidence Interval\n",
    "\n",
    "\n",
    "5. Interpret the Confidence Interval:\n",
    "\n",
    "If the confidence interval is above 50%, this would indicate that a significant portion of people who engage in group exercise more than or equal to once a month tend to report “No” on the loneliness scale.\n",
    "If the interval is lower or includes values near 50%, the association between frequent group exercise and not feeling lonely is less clear."
   ]
  },
  {
   "cell_type": "markdown",
   "id": "944c4494",
   "metadata": {},
   "source": [
    "Hypothesis: People who engage in group exercise more than or equal to once a month will less likely feel lonely.\n",
    "\n",
    "(a)Possible Results:\n",
    "a significant portion of people who engage in group exercise more than or equal to once a month tend to report “No” on the loneliness scale.\n",
    "-or-\n",
    "the association between frequent group exercise and not feeling lonely is less clear."
   ]
  },
  {
   "cell_type": "markdown",
   "id": "be2f313f",
   "metadata": {},
   "source": [
    "(b)This is trying to find the potential relationship between group exercise and feeling of 'not lonely', it is possible that group exercise is a way to reduce loneliness"
   ]
  },
  {
   "cell_type": "code",
   "execution_count": null,
   "id": "ef86f51f",
   "metadata": {},
   "outputs": [],
   "source": []
  },
  {
   "cell_type": "markdown",
   "id": "7d518808",
   "metadata": {},
   "source": [
    "# Analysis 3:"
   ]
  },
  {
   "cell_type": "markdown",
   "id": "1cea2bae",
   "metadata": {},
   "source": [
    "Variables:\n",
    "\n",
    "CONNECTION_activities_computer_games_p3m\n",
    "CONNECTION_activities_onlinegames_p3m\n",
    "WELLNESS_malach_pines_burnout_measure_score\n",
    "\n",
    "VISUALIZATION:\n",
    "-Histogram: A histogram of WELLNESS_malach_pines_burnout_measure_score will help you observe the distribution of burnout scores across the dataset.\n",
    "\n",
    "-Grouped Bar Chart for Gaming Frequency Categories: After grouping each activity into \"more or equal to once a month\" and \"less than once a month,\" a grouped bar chart can show the number of participants in each category.\n",
    "(color differ)\n",
    "\n",
    "\n",
    "Question: Will these two kinds of games reduce one's burnout score?\n",
    "\n",
    "How to perform:\n",
    "\n",
    "Independent Variables:\n",
    "\n",
    "Computer Game Frequency (CONNECTION_activities_computer_games_p3m):\n",
    "1 if engaging in computer games at least once a month.\n",
    "0 if engaging in computer games less than once a month.\n",
    "Online Game Frequency (CONNECTION_activities_onlinegames_p3m):\n",
    "1 if engaging in online games at least once a month.\n",
    "0 if engaging in online games less than once a month.\n",
    "\n",
    "Dependent Variable:\n",
    "\n",
    "Burnout Score (WELLNESS_malach_pines_burnout_measure_score): A continuous variable representing burnout.\n",
    "\n",
    "\n",
    "1. Set Up the Multiple Linear Regression Model:\n",
    "\n",
    "Define the outcome variable as WELLNESS_malach_pines_burnout_measure_score.\n",
    "Define predictor variables as Computer_Game_Frequency and Online_Game_Frequency.\n",
    "The model equation becomes:\n",
    "\n",
    "\\text{Burnout Score} = \\beta_0 + \\beta_1 \\times \\text{Computer_Game_Frequency} + \\beta_2 \\times \\text{Online_Game_Frequency} + \\epsilon\n",
    "\n",
    "2. Fit the Model:\n",
    "\n",
    "Estimate the coefficients β0, β1, and β2 using multiple linear regression.\n",
    "\n",
    "3. Report Findings:\n",
    "\n",
    "Summarize coefficients, p-values, and any relevant statistics to determine if gaming frequency is associated with changes in burnout scores."
   ]
  },
  {
   "cell_type": "markdown",
   "id": "bd449f99",
   "metadata": {},
   "source": [
    "Hypothesis: Playing computer games and playing online games with friends can reduce burnout score.\n",
    "\n",
    "(a)possible reuslt:\n",
    "If the coefficients β1(for computer games) or β2(for online games) are significantly positive, this would suggest that engaging in these gaming activities more frequently (i.e., at least once a month) is associated with higher burnout scores. This might imply that individuals who game frequently experience higher levels of burnout.\n",
    "-or-\n",
    "If β1 and β2 are significantly negative, this would indicate that more frequent engagement in gaming activities correlates with lower burnout scores. This outcome could suggest that gaming acts as a stress-reliever or coping mechanism, potentially reducing feelings of burnout among frequent gamers.\n",
    "-or-\n",
    "If neither β1 nor β2 are significantly different from zero, this would indicate no meaningful relationship between gaming frequency and burnout levels. This outcome would imply that gaming frequency, at least within the parameters of this dataset, does not have a detectable effect on burnout.\n",
    "-or-\n",
    "If one coefficient (e.g., β1 for computer games) is significant while the other (e.g., β2 for online games) is not, this could suggest that different types of gaming activities may impact burnout differently. For instance, online gaming might have social interaction components that could reduce or increase burnout differently than solo computer gaming.\n",
    "(b)\n",
    "By examining the relationship between gaming and burnout, the project can assess whether gaming frequency correlates with mental wellness (as burnout is a key indicator of psychological stress). This helps expand our understanding of lifestyle activities’ impacts on well-being."
   ]
  },
  {
   "cell_type": "code",
   "execution_count": null,
   "id": "13191568",
   "metadata": {},
   "outputs": [],
   "source": []
  },
  {
   "cell_type": "code",
   "execution_count": null,
   "id": "ad1e773c",
   "metadata": {},
   "outputs": [],
   "source": []
  },
  {
   "cell_type": "code",
   "execution_count": null,
   "id": "a423ca25",
   "metadata": {},
   "outputs": [],
   "source": []
  }
 ],
 "metadata": {
  "kernelspec": {
   "display_name": "Python 3 (ipykernel)",
   "language": "python",
   "name": "python3"
  },
  "language_info": {
   "codemirror_mode": {
    "name": "ipython",
    "version": 3
   },
   "file_extension": ".py",
   "mimetype": "text/x-python",
   "name": "python",
   "nbconvert_exporter": "python",
   "pygments_lexer": "ipython3",
   "version": "3.11.6"
  }
 },
 "nbformat": 4,
 "nbformat_minor": 5
}
